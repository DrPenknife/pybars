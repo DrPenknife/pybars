{
 "cells": [
  {
   "cell_type": "code",
   "execution_count": 1,
   "id": "ddeee4b4-a4d5-4be4-b9ae-beaa438ce4aa",
   "metadata": {},
   "outputs": [],
   "source": [
    "import sqlite3\n",
    "con = sqlite3.connect(\"example.db\")"
   ]
  },
  {
   "cell_type": "code",
   "execution_count": 2,
   "id": "e82bbe19-097f-41c3-904a-40055ce2b4c0",
   "metadata": {},
   "outputs": [],
   "source": [
    "import pybars.charts as charts\n",
    "charts.bindSql(con)"
   ]
  },
  {
   "cell_type": "code",
   "execution_count": 10,
   "id": "a9c4626a-bdc7-495d-8363-1aad541dec9b",
   "metadata": {},
   "outputs": [
    {
     "data": {
      "text/html": [
       "\n",
       "        <iframe\n",
       "            width=\"600\"\n",
       "            height=\"480\"\n",
       "            src=\"data:text/html;base64,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\"\n",
       "            frameborder=\"0\"\n",
       "            allowfullscreen\n",
       "            \n",
       "        ></iframe>\n",
       "        "
      ],
      "text/plain": [
       "<IPython.lib.display.IFrame at 0x7f7c25b790>"
      ]
     },
     "execution_count": 10,
     "metadata": {},
     "output_type": "execute_result"
    }
   ],
   "source": [
    "%%sql show=graph type=bar itemBorderRadius=10 stack=yes width=600 height=480 fontSize=13\n",
    "with stats(cat,rating,votes) as (\n",
    "    select 1, \"bad\",  ABS(RANDOM() % 70) + 30\n",
    "    union all\n",
    "    select 1, \"good\", ABS(RANDOM() % 70) + 30\n",
    "    union all \n",
    "    select cat+1, rating, ABS(RANDOM() % 70) + 30 from stats limit 10\n",
    ")\n",
    "select \"Category_\" || cat as x, rating as color, votes as y from stats\n",
    "order by 1 desc"
   ]
  },
  {
   "cell_type": "code",
   "execution_count": 12,
   "id": "818e6d3c-8515-4ada-80f5-5907e897a891",
   "metadata": {},
   "outputs": [
    {
     "data": {
      "text/html": [
       "\n",
       "        <iframe\n",
       "            width=\"600\"\n",
       "            height=\"480\"\n",
       "            src=\"data:text/html;base64,CiAgICA8IURPQ1RZUEUgaHRtbD4KICAgIDxodG1sIGxhbmc9ImVuIiBzdHlsZT0iaGVpZ2h0OiAxMDAlIj4KICAgIDxoZWFkPgogICAgPG1ldGEgY2hhcnNldD0idXRmLTgiPgogICAgPC9oZWFkPgogICAgPGJvZHkgc3R5bGU9ImhlaWdodDogMTAwJTsgbWFyZ2luOiAwIj4KICAgIDxkaXYgaWQ9ImNvbnRhaW5lciIgc3R5bGU9ImhlaWdodDogMTAwJSI+PC9kaXY+CiAgICA8c2NyaXB0IHR5cGU9InRleHQvamF2YXNjcmlwdCIgc3JjPSJodHRwczovL2Zhc3RseS5qc2RlbGl2ci5uZXQvbnBtL2VjaGFydHNANS40LjEvZGlzdC9lY2hhcnRzLm1pbi5qcyI+PC9zY3JpcHQ+CiAgICA8c2NyaXB0IHR5cGU9InRleHQvamF2YXNjcmlwdCI+CiAgICB2YXIgZG9tID0gZG9jdW1lbnQuZ2V0RWxlbWVudEJ5SWQoJ2NvbnRhaW5lcicpOwogICAgdmFyIG15Q2hhcnQgPSBlY2hhcnRzLmluaXQoZG9tLCBudWxsLCB7CiAgICAgICAgcmVuZGVyZXI6ICdjYW52YXMnLAogICAgICAgIHVzZURpcnR5UmVjdDogZmFsc2UKICAgIH0pOwoKICAgIHZhciBkYXRhZnJhbWUgPSBbWyd4JywgJ2NvdW50J10sIFsnZ29vZCcsIDgyXSwgWydiYWQnLCA2MF1dOwogICAgdmFyIGFwcCA9IHt9OwogICAgdmFyIG15b3B0aW9ucyA9IHsnZm9udFNpemUnOiAnMTQnLCAnYmFyQ2F0ZWdvcnlHYXAnOiAnNSUnLCAnc2hvdyc6ICdncmFwaCcsICd0eXBlJzogJ3BpZScsICdpdGVtQm9yZGVyUmFkaXVzJzogJzEwJywgJ3N0YWNrJzogJ3llcycsICd3aWR0aCc6ICc2MDAnLCAnaGVpZ2h0JzogJzQ4MCd9OwogICAgdmFyIG9wdGlvbjsKCiAgICB2YXIgeUF4aXMgPSB7IHR5cGU6ICdjYXRlZ29yeScgLCBheGlzTGFiZWw6IHsgaW50ZXJ2YWw6IDAsIHJvdGF0ZTogIG15b3B0aW9ucy55cm90YXRlIHx8IDAgfSB9OwogICAgdmFyIHhBeGlzID0geyAgYXhpc0xhYmVsOiB7IGludGVydmFsOiAwLCByb3RhdGU6IG15b3B0aW9ucy54cm90YXRlIHx8IDAgfSB9OwogCiAgICBpZihteW9wdGlvbnMudmVydGljYWwgPT0gJ3llcycpeyAKICAgICAgICB0bXAgPSB4QXhpczsKICAgICAgICB4QXhpcyA9IHlBeGlzCiAgICAgICAgeUF4aXMgPSB0bXAKICAgIH0KCiAgICBvcHRpb24gPSB7CiAgICAgICAgdGl0bGU6IHsKICAgICAgICAgICAgdGV4dDogbXlvcHRpb25zLnRpdGxlIHx8ICcnLAogICAgICAgICAgICBzdWJ0ZXh0OiBteW9wdGlvbnMuc3VidGl0bGUgfHwgJycKICAgICAgICB9LAogICAgICAgIGxlZ2VuZDogewogICAgICAgICAgICB0b3A6IDUsCiAgICAgICAgfSwgCiAgICAgICAgdG9vbHRpcDogewogICAgICAgICAgICB0cmlnZ2VyOiAnYXhpcycsCiAgICAgICAgICAgIGF4aXNQb2ludGVyOiB7CiAgICAgICAgICAgICAgdHlwZTogJ3NoYWRvdycKICAgICAgICAgICAgfQogICAgICAgIH0sCiAgICAgICAgZ3JpZDogewogICAgICAgICAgICBsZWZ0OiAnMyUnLAogICAgICAgICAgICByaWdodDogJzQlJywKICAgICAgICAgICAgYm90dG9tOiAnMyUnLAogICAgICAgICAgICBjb250YWluTGFiZWw6IHRydWUKICAgICAgICB9LAoKICAgICAgICBkYXRhc2V0OiB7CiAgICAgICAgICAgIHNvdXJjZTpkYXRhZnJhbWUKICAgICAgICB9LAogICAgICAgIHlBeGlzOiB5QXhpcywKICAgICAgICB4QXhpczogeEF4aXMsCiAgICAgICAgCiAgICAgICAgc2VyaWVzOiBkYXRhZnJhbWVbMF0uc2xpY2UoMSkubWFwKChiYXJfbmFtZSxiYXJfaW5kZXgpPT4oeyAKICAgICAgICAgICAgdHlwZTogbXlvcHRpb25zLnR5cGUgfHwgJ2JhcicsICAKICAgICAgICAgICAgcmFkaXVzOiBbJzQwJScsICc3MCUnXSwKICAgICAgICAgICAgaXRlbVN0eWxlOiB7CiAgICAgICAgICAgICAgICBib3JkZXJSYWRpdXM6ICBwYXJzZUludChteW9wdGlvbnMuaXRlbUJvcmRlclJhZGl1cykgfHwgMywKICAgICAgICAgICAgICAgIGJvcmRlckNvbG9yOiAnI2ZmZicsCiAgICAgICAgICAgICAgICBib3JkZXJXaWR0aDogIHBhcnNlSW50KG15b3B0aW9ucy5pdGVtQm9yZGVyV2lkdGgpIHx8IDEKICAgICAgICAgICAgfSwKICAgICAgICAgICAgc3RhY2s6IG15b3B0aW9ucy5zdGFjayA9PSAneWVzJyB8fCBmYWxzZSAsCiAgICAgICAgICAgIGJhckdhcDogbXlvcHRpb25zLmJhckdhcCB8fCAnMSUnLAogICAgICAgICAgICBiYXJDYXRlZ29yeUdhcDogbXlvcHRpb25zLmJhckNhdGVnb3J5R2FwIHx8ICcxJScsCgogICAgICAgICAgICBsYWJlbDogewogICAgICAgICAgICAgICAgc2hvdzogdHJ1ZSwKICAgICAgICAgICAgICAgIGZvcm1hdHRlcjogZnVuY3Rpb24ocGFyYW1zKSB7CiAgICAgICAgICAgICAgICAgICAgbGV0IHYgPSBwYXJhbXMudmFsdWVbYmFyX2luZGV4KzFdCiAgICAgICAgICAgICAgICAgICAgcmV0dXJuIHY9PTA/Jyc6diAKICAgICAgICAgICAgICAgIH0sCiAgICAgICAgICAgICAgICBmb250U2l6ZTogbXlvcHRpb25zLmZvbnRTaXplIHx8IDEyLAogICAgICAgICAgICAgICAgcm90YXRlOiBteW9wdGlvbnMucm90YXRlIHx8IDAKICAgICAgICAgICAgfSwKICAgICAgICB9KSkKICAgIH07CgogICAgaWYobXlvcHRpb25zLnR5cGU9PSJwaWUiKXsKICAgICAgICBvcHRpb24ueUF4aXM9dW5kZWZpbmVkCiAgICAgICAgb3B0aW9uLnhBeGlzPXVuZGVmaW5lZAogICAgfQogICAgCiAgICBpZiAob3B0aW9uICYmIHR5cGVvZiBvcHRpb24gPT09ICdvYmplY3QnKSB7CiAgICAgICAgbXlDaGFydC5zZXRPcHRpb24ob3B0aW9uKTsKICAgIH0KCiAgICB3aW5kb3cuYWRkRXZlbnRMaXN0ZW5lcigncmVzaXplJywgbXlDaGFydC5yZXNpemUpOwogICAgPC9zY3JpcHQ+CiAgICA8L2JvZHk+CiAgICA8L2h0bWw+CiAgICA=\"\n",
       "            frameborder=\"0\"\n",
       "            allowfullscreen\n",
       "            \n",
       "        ></iframe>\n",
       "        "
      ],
      "text/plain": [
       "<IPython.lib.display.IFrame at 0x7f7c1a5040>"
      ]
     },
     "execution_count": 12,
     "metadata": {},
     "output_type": "execute_result"
    }
   ],
   "source": [
    "%%sql show=graph type=pie itemBorderRadius=10 stack=yes width=600 height=480 fontSize=14\n",
    "with stats(cat,rating,votes) as (\n",
    "    select 1, \"bad\",  ABS(RANDOM() % 70) + 30\n",
    "    union all\n",
    "    select 1, \"good\", ABS(RANDOM() % 70) + 30\n",
    ")\n",
    "select rating as x, \"count\" , votes as y from stats\n",
    "order by 1 desc"
   ]
  }
 ],
 "metadata": {
  "kernelspec": {
   "display_name": "Python 3 (ipykernel)",
   "language": "python",
   "name": "python3"
  },
  "language_info": {
   "codemirror_mode": {
    "name": "ipython",
    "version": 3
   },
   "file_extension": ".py",
   "mimetype": "text/x-python",
   "name": "python",
   "nbconvert_exporter": "python",
   "pygments_lexer": "ipython3",
   "version": "3.9.2"
  }
 },
 "nbformat": 4,
 "nbformat_minor": 5
}
